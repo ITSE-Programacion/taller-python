{
 "cells": [
  {
   "cell_type": "code",
   "execution_count": null,
   "metadata": {},
   "outputs": [],
   "source": [
    "# mi primer programa\n",
    "\n",
    "print(\"Hola Mundo!\")"
   ]
  },
  {
   "cell_type": "code",
   "execution_count": null,
   "metadata": {},
   "outputs": [],
   "source": [
    "# se lee un archivo Excel sin filtros\n",
    "import pandas as pd\n",
    "\n",
    "archivo = \"datos/gastos.xlsx\"\n",
    "data_frame = pd.read_excel(archivo)\n",
    "data_frame"
   ]
  },
  {
   "cell_type": "code",
   "execution_count": 3,
   "metadata": {},
   "outputs": [
    {
     "name": "stdout",
     "output_type": "stream",
     "text": [
      "            enero  febrero  marzo  abril  mayo  junio\n",
      "transporte   2000     3000   1500   5000  4000   3500\n",
      "alquiler     1000     1000   1000   1250  1250   1300\n",
      "alimentos    7000     8000  10000  11000  9000   8500\n",
      "recreación   3000     3500   2000   1800  4000   2500\n",
      "salud         500     1800   2000   1000     0   3000\n",
      "vestimenta   4000     2000   5000   3500  2000   4000\n"
     ]
    }
   ],
   "source": [
    "# se lee un archivo Excel aplicando algunos filtros\n",
    "import pandas as pd\n",
    "\n",
    "archivo = \"datos/gastos.xlsx\"\n",
    "data_frame = pd.read_excel(archivo, skiprows=1, skipfooter=1, index_col=0, usecols=[0,1,2,3,4,5,6], sheet_name=\"gastos\")\n",
    "# index_col -> columna por el cual ordena los datos\n",
    "# header=None, names=[\"nombreCol1\",... ] -> si no tiene header\n",
    "# nrows=10 -> slice de x cantidad de filas\n",
    "print(data_frame)"
   ]
  }
 ],
 "metadata": {
  "kernelspec": {
   "display_name": "Python 3.8.10 64-bit",
   "language": "python",
   "name": "python3"
  },
  "language_info": {
   "codemirror_mode": {
    "name": "ipython",
    "version": 3
   },
   "file_extension": ".py",
   "mimetype": "text/x-python",
   "name": "python",
   "nbconvert_exporter": "python",
   "pygments_lexer": "ipython3",
   "version": "3.8.10"
  },
  "orig_nbformat": 4,
  "vscode": {
   "interpreter": {
    "hash": "75e3163b0f9c041cb7da72584297c329c7c5a104a86be14ad0509c57c4ceee3b"
   }
  }
 },
 "nbformat": 4,
 "nbformat_minor": 2
}
